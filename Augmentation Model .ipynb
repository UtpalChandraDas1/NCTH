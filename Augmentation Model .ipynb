{
 "cells": [
  {
   "cell_type": "code",
   "execution_count": 1,
   "id": "fbd35df2",
   "metadata": {},
   "outputs": [],
   "source": [
    "import os\n",
    "import cv2\n",
    "from albumentations import (\n",
    "    HorizontalFlip, VerticalFlip, RandomRotate90, Affine,\n",
    "    RandomBrightnessContrast, GaussianBlur, GaussNoise,\n",
    "    ElasticTransform, GridDistortion, OpticalDistortion,\n",
    "    Compose\n",
    ")\n",
    "\n"
   ]
  },
  {
   "cell_type": "code",
   "execution_count": 2,
   "id": "ce8f24e2",
   "metadata": {},
   "outputs": [
    {
     "name": "stderr",
     "output_type": "stream",
     "text": [
      "C:\\Users\\Acer\\AppData\\Local\\Temp\\ipykernel_18908\\1646062208.py:14: UserWarning: Argument(s) 'var_limit' are not valid for transform GaussNoise\n",
      "  GaussNoise(var_limit=(5, 20), p=0.3),\n",
      "C:\\Users\\Acer\\AppData\\Local\\Temp\\ipykernel_18908\\1646062208.py:17: UserWarning: Argument(s) 'alpha_affine' are not valid for transform ElasticTransform\n",
      "  ElasticTransform(alpha=20, sigma=4, alpha_affine=5, p=0.2),\n",
      "C:\\Users\\Acer\\AppData\\Local\\Temp\\ipykernel_18908\\1646062208.py:19: UserWarning: Argument(s) 'shift_limit' are not valid for transform OpticalDistortion\n",
      "  OpticalDistortion(distort_limit=0.02, shift_limit=0.01, p=0.2)\n"
     ]
    }
   ],
   "source": [
    "# ----------------------------\n",
    "# Define augmentation pipeline\n",
    "# ----------------------------\n",
    "augment = Compose([\n",
    "    Affine(scale=(0.95, 1.05),       # small zoom in/out\n",
    "           translate_percent=(0.02, 0.02),  # small shifts\n",
    "           rotate=(-10, 10),         # slight rotation only\n",
    "           shear=(-3, 3),            # very small shear\n",
    "           p=0.9),\n",
    "    \n",
    "    # Machine settings (small changes)\n",
    "    RandomBrightnessContrast(brightness_limit=0.1, contrast_limit=0.1, p=0.5),\n",
    "    GaussianBlur(blur_limit=(3, 3), p=0.2),\n",
    "    GaussNoise(var_limit=(5, 20), p=0.3),\n",
    "    \n",
    "    # Subtle probe pressure simulation\n",
    "    ElasticTransform(alpha=20, sigma=4, alpha_affine=5, p=0.2),\n",
    "    GridDistortion(num_steps=4, distort_limit=0.02, p=0.2),\n",
    "    OpticalDistortion(distort_limit=0.02, shift_limit=0.01, p=0.2)\n",
    "])\n",
    "\n"
   ]
  },
  {
   "cell_type": "code",
   "execution_count": 3,
   "id": "4a055173",
   "metadata": {},
   "outputs": [],
   "source": [
    "# ----------------------------\n",
    "# Paths\n",
    "# ----------------------------\n",
    "input_dir = \"E:/Trial/RUQ Normal Picture\"\n",
    "output_dir = \"E:/Trial/AugN\"\n",
    "os.makedirs(output_dir, exist_ok=True)\n",
    "\n"
   ]
  },
  {
   "cell_type": "code",
   "execution_count": 4,
   "id": "70c9bcb3",
   "metadata": {},
   "outputs": [
    {
     "name": "stdout",
     "output_type": "stream",
     "text": [
      "✅ Augmentation complete! Check the 'augmented_images' folder.\n"
     ]
    }
   ],
   "source": [
    "# ----------------------------\n",
    "# Augment dataset\n",
    "# ----------------------------\n",
    "num_augmented_per_image = 5   # how many new versions per original image\n",
    "\n",
    "for filename in os.listdir(input_dir):\n",
    "    img_path = os.path.join(input_dir, filename)\n",
    "    image = cv2.imread(img_path)\n",
    "\n",
    "    if image is None:\n",
    "        print(f\"⚠️ Skipping {filename} (could not read file)\")\n",
    "        continue\n",
    "    \n",
    "    # Save original copy in output as well\n",
    "    cv2.imwrite(os.path.join(output_dir, filename), image)\n",
    "\n",
    "    # Create augmentations\n",
    "    for i in range(num_augmented_per_image):\n",
    "        augmented = augment(image=image)\n",
    "        aug_img = augmented[\"image\"]\n",
    "        \n",
    "        new_filename = f\"{os.path.splitext(filename)[0]}_aug{i}.png\"\n",
    "        cv2.imwrite(os.path.join(output_dir, new_filename), aug_img)\n",
    "\n",
    "print(\"✅ Augmentation complete! Check the 'augmented_images' folder.\")\n"
   ]
  },
  {
   "cell_type": "code",
   "execution_count": null,
   "id": "f4ea0242",
   "metadata": {},
   "outputs": [],
   "source": []
  },
  {
   "cell_type": "code",
   "execution_count": null,
   "id": "97652ec9",
   "metadata": {},
   "outputs": [],
   "source": []
  },
  {
   "cell_type": "code",
   "execution_count": null,
   "id": "9f19a511",
   "metadata": {},
   "outputs": [],
   "source": []
  },
  {
   "cell_type": "code",
   "execution_count": null,
   "id": "2bed52f9",
   "metadata": {},
   "outputs": [],
   "source": []
  },
  {
   "cell_type": "code",
   "execution_count": null,
   "id": "604a2f88",
   "metadata": {},
   "outputs": [],
   "source": []
  },
  {
   "cell_type": "code",
   "execution_count": null,
   "id": "21be53a9",
   "metadata": {},
   "outputs": [],
   "source": []
  },
  {
   "cell_type": "code",
   "execution_count": null,
   "id": "958b6683",
   "metadata": {},
   "outputs": [],
   "source": []
  },
  {
   "cell_type": "code",
   "execution_count": null,
   "id": "8eed7100",
   "metadata": {},
   "outputs": [],
   "source": []
  },
  {
   "cell_type": "code",
   "execution_count": null,
   "id": "e8292e27",
   "metadata": {},
   "outputs": [],
   "source": []
  },
  {
   "cell_type": "code",
   "execution_count": null,
   "id": "e7731f89",
   "metadata": {},
   "outputs": [],
   "source": []
  }
 ],
 "metadata": {
  "kernelspec": {
   "display_name": "Python 3 (ipykernel)",
   "language": "python",
   "name": "python3"
  },
  "language_info": {
   "codemirror_mode": {
    "name": "ipython",
    "version": 3
   },
   "file_extension": ".py",
   "mimetype": "text/x-python",
   "name": "python",
   "nbconvert_exporter": "python",
   "pygments_lexer": "ipython3",
   "version": "3.9.16"
  }
 },
 "nbformat": 4,
 "nbformat_minor": 5
}
